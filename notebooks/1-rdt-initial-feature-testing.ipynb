{
 "cells": [
  {
   "cell_type": "markdown",
   "metadata": {},
   "source": [
    "# 1-rdt-feature-testing"
   ]
  },
  {
   "cell_type": "code",
   "execution_count": 1,
   "metadata": {},
   "outputs": [],
   "source": [
    "import pandas as pd\n",
    "import catboost\n",
    "from sklearn.preprocessing import StandardScaler\n",
    "from sklearn.model_selection import train_test_split\n",
    "from sklearn.metrics import f1_score"
   ]
  },
  {
   "cell_type": "markdown",
   "metadata": {},
   "source": [
    "testing which version of year will result in better model performance"
   ]
  },
  {
   "cell_type": "code",
   "execution_count": 2,
   "metadata": {},
   "outputs": [],
   "source": [
    "# set seed\n",
    "seed = 42"
   ]
  },
  {
   "cell_type": "code",
   "execution_count": 3,
   "metadata": {},
   "outputs": [
    {
     "data": {
      "text/html": [
       "<div>\n",
       "<style scoped>\n",
       "    .dataframe tbody tr th:only-of-type {\n",
       "        vertical-align: middle;\n",
       "    }\n",
       "\n",
       "    .dataframe tbody tr th {\n",
       "        vertical-align: top;\n",
       "    }\n",
       "\n",
       "    .dataframe thead th {\n",
       "        text-align: right;\n",
       "    }\n",
       "</style>\n",
       "<table border=\"1\" class=\"dataframe\">\n",
       "  <thead>\n",
       "    <tr style=\"text-align: right;\">\n",
       "      <th></th>\n",
       "      <th>word</th>\n",
       "      <th>previous_word</th>\n",
       "      <th>next_word</th>\n",
       "      <th>artist</th>\n",
       "      <th>song_type</th>\n",
       "      <th>song</th>\n",
       "      <th>aae_feature</th>\n",
       "      <th>aae_realization</th>\n",
       "      <th>performance_type</th>\n",
       "      <th>time</th>\n",
       "      <th>social_group</th>\n",
       "      <th>year</th>\n",
       "    </tr>\n",
       "  </thead>\n",
       "  <tbody>\n",
       "    <tr>\n",
       "      <th>0</th>\n",
       "      <td>there</td>\n",
       "      <td></td>\n",
       "      <td>is</td>\n",
       "      <td>albertking</td>\n",
       "      <td>cover</td>\n",
       "      <td>as_the_years_go_passing_by</td>\n",
       "      <td>post-vocalic r</td>\n",
       "      <td>0</td>\n",
       "      <td>studio</td>\n",
       "      <td>1960s</td>\n",
       "      <td>AA</td>\n",
       "      <td>1969</td>\n",
       "    </tr>\n",
       "    <tr>\n",
       "      <th>1</th>\n",
       "      <td>there</td>\n",
       "      <td></td>\n",
       "      <td>is</td>\n",
       "      <td>albertking</td>\n",
       "      <td>cover</td>\n",
       "      <td>as_the_years_go_passing_by</td>\n",
       "      <td>post-vocalic r</td>\n",
       "      <td>0</td>\n",
       "      <td>studio</td>\n",
       "      <td>1960s</td>\n",
       "      <td>AA</td>\n",
       "      <td>1967</td>\n",
       "    </tr>\n",
       "    <tr>\n",
       "      <th>2</th>\n",
       "      <td>is</td>\n",
       "      <td>there</td>\n",
       "      <td>nothing</td>\n",
       "      <td>albertking</td>\n",
       "      <td>cover</td>\n",
       "      <td>as_the_years_go_passing_by</td>\n",
       "      <td>auxiliary verb</td>\n",
       "      <td>0</td>\n",
       "      <td>studio</td>\n",
       "      <td>1960s</td>\n",
       "      <td>AA</td>\n",
       "      <td>1969</td>\n",
       "    </tr>\n",
       "    <tr>\n",
       "      <th>3</th>\n",
       "      <td>is</td>\n",
       "      <td>there</td>\n",
       "      <td>nothing</td>\n",
       "      <td>albertking</td>\n",
       "      <td>cover</td>\n",
       "      <td>as_the_years_go_passing_by</td>\n",
       "      <td>auxiliary verb</td>\n",
       "      <td>0</td>\n",
       "      <td>studio</td>\n",
       "      <td>1960s</td>\n",
       "      <td>AA</td>\n",
       "      <td>1967</td>\n",
       "    </tr>\n",
       "    <tr>\n",
       "      <th>4</th>\n",
       "      <td>nothing</td>\n",
       "      <td>is</td>\n",
       "      <td>I</td>\n",
       "      <td>albertking</td>\n",
       "      <td>cover</td>\n",
       "      <td>as_the_years_go_passing_by</td>\n",
       "      <td>ing ultimas</td>\n",
       "      <td>1</td>\n",
       "      <td>studio</td>\n",
       "      <td>1960s</td>\n",
       "      <td>AA</td>\n",
       "      <td>1969</td>\n",
       "    </tr>\n",
       "  </tbody>\n",
       "</table>\n",
       "</div>"
      ],
      "text/plain": [
       "      word previous_word next_word      artist song_type  \\\n",
       "0    there                      is  albertking     cover   \n",
       "1    there                      is  albertking     cover   \n",
       "2       is        there    nothing  albertking     cover   \n",
       "3       is        there    nothing  albertking     cover   \n",
       "4  nothing           is          I  albertking     cover   \n",
       "\n",
       "                         song     aae_feature  aae_realization  \\\n",
       "0  as_the_years_go_passing_by  post-vocalic r                0   \n",
       "1  as_the_years_go_passing_by  post-vocalic r                0   \n",
       "2  as_the_years_go_passing_by  auxiliary verb                0   \n",
       "3  as_the_years_go_passing_by  auxiliary verb                0   \n",
       "4  as_the_years_go_passing_by     ing ultimas                1   \n",
       "\n",
       "  performance_type   time social_group  year  \n",
       "0           studio  1960s           AA  1969  \n",
       "1           studio  1960s           AA  1967  \n",
       "2           studio  1960s           AA  1969  \n",
       "3           studio  1960s           AA  1967  \n",
       "4           studio  1960s           AA  1969  "
      ]
     },
     "execution_count": 3,
     "metadata": {},
     "output_type": "execute_result"
    }
   ],
   "source": [
    "# import data\n",
    "df = pd.read_csv(\"../data/interim/corpus_studio_pre_processed.csv\")\n",
    "df = df.fillna(\"\")\n",
    "df.isna().sum()\n",
    "df.head()"
   ]
  },
  {
   "cell_type": "code",
   "execution_count": 4,
   "metadata": {},
   "outputs": [],
   "source": [
    "# drop redundant column\n",
    "df.drop(columns=\"performance_type\", inplace=True)"
   ]
  },
  {
   "cell_type": "code",
   "execution_count": 5,
   "metadata": {},
   "outputs": [],
   "source": [
    "# set target\n",
    "y = df[\"aae_realization\"]\n",
    "X = df.drop(columns=\"aae_realization\")"
   ]
  },
  {
   "cell_type": "code",
   "execution_count": 6,
   "metadata": {},
   "outputs": [],
   "source": [
    "# train test split\n",
    "X_train, X_test, y_train, y_test = train_test_split(\n",
    "    X, y, stratify=y, test_size=0.2, random_state=seed\n",
    ")"
   ]
  },
  {
   "cell_type": "code",
   "execution_count": 7,
   "metadata": {},
   "outputs": [],
   "source": [
    "# normalize\n",
    "normalizer = StandardScaler()\n",
    "X_train[\"year_norm\"] = normalizer.fit_transform(X_train[[\"year\"]])\n",
    "X_test[\"year_norm\"] = normalizer.transform(X_test[[\"year\"]])"
   ]
  },
  {
   "cell_type": "code",
   "execution_count": 8,
   "metadata": {},
   "outputs": [],
   "source": [
    "X_train_cat = X_train.drop(columns=[\"year\", \"year_norm\"])\n",
    "X_train_norm = X_train.drop(columns=[\"year\", \"time\"])\n",
    "X_train_year = X_train.drop(columns=[\"time\", \"year_norm\"])\n",
    "\n",
    "X_test_cat = X_test.drop(columns=[\"year\", \"year_norm\"])\n",
    "X_test_norm = X_test.drop(columns=[\"year\", \"time\"])\n",
    "X_test_year = X_test.drop(columns=[\"time\", \"year_norm\"])\n",
    "\n",
    "cat_features_cat = list(X_train_cat.select_dtypes(\"object\").columns)\n",
    "cat_features_norm = list(X_train_norm.select_dtypes(\"object\").columns)\n",
    "cat_features_year = list(X_train_year.select_dtypes(\"object\").columns)"
   ]
  },
  {
   "cell_type": "code",
   "execution_count": 9,
   "metadata": {},
   "outputs": [
    {
     "name": "stdout",
     "output_type": "stream",
     "text": [
      "categorical year f1 score: 0.9730816486094047\n"
     ]
    }
   ],
   "source": [
    "# cat\n",
    "model = catboost.CatBoostClassifier()\n",
    "model.fit(\n",
    "    X_train_cat,\n",
    "    y_train,\n",
    "    cat_features=cat_features_cat,\n",
    "    verbose=0,\n",
    "    early_stopping_rounds=100,\n",
    ")\n",
    "\n",
    "preds = model.predict(X_test_cat)\n",
    "score = f1_score(y_test, preds)\n",
    "print(\"categorical year f1 score:\", score)"
   ]
  },
  {
   "cell_type": "code",
   "execution_count": 10,
   "metadata": {},
   "outputs": [
    {
     "name": "stdout",
     "output_type": "stream",
     "text": [
      "normalized year f1 score: 0.9726103968697597\n"
     ]
    }
   ],
   "source": [
    "# norm\n",
    "model = catboost.CatBoostClassifier()\n",
    "model.fit(\n",
    "    X_train_norm,\n",
    "    y_train,\n",
    "    cat_features=cat_features_norm,\n",
    "    verbose=0,\n",
    "    early_stopping_rounds=100,\n",
    ")\n",
    "\n",
    "preds = model.predict(X_test_norm)\n",
    "score = f1_score(y_test, preds)\n",
    "print(\"normalized year f1 score:\", score)"
   ]
  },
  {
   "cell_type": "code",
   "execution_count": 11,
   "metadata": {},
   "outputs": [
    {
     "name": "stdout",
     "output_type": "stream",
     "text": [
      "regular year f1 score: 0.9726103968697597\n"
     ]
    }
   ],
   "source": [
    "# year\n",
    "model = catboost.CatBoostClassifier()\n",
    "model.fit(\n",
    "    X_train_year,\n",
    "    y_train,\n",
    "    cat_features=cat_features_year,\n",
    "    verbose=0,\n",
    "    early_stopping_rounds=100,\n",
    ")\n",
    "\n",
    "preds = model.predict(X_test_year)\n",
    "score = f1_score(y_test, preds)\n",
    "print(\"regular year f1 score:\", score)"
   ]
  },
  {
   "cell_type": "markdown",
   "metadata": {},
   "source": [
    "categorical feature results in best model performance"
   ]
  }
 ],
 "metadata": {
  "kernelspec": {
   "display_name": "ml-2024",
   "language": "python",
   "name": "python3"
  },
  "language_info": {
   "codemirror_mode": {
    "name": "ipython",
    "version": 3
   },
   "file_extension": ".py",
   "mimetype": "text/x-python",
   "name": "python",
   "nbconvert_exporter": "python",
   "pygments_lexer": "ipython3",
   "version": "3.12.2"
  }
 },
 "nbformat": 4,
 "nbformat_minor": 2
}
